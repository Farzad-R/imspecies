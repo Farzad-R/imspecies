{
 "cells": [
  {
   "cell_type": "markdown",
   "metadata": {},
   "source": [
    "### This notebook shows how to get the altitude from a list of longtitudes and latitudes. And how to calculate the distance between each pair."
   ]
  },
  {
   "cell_type": "markdown",
   "metadata": {},
   "source": [
    "### Calculating the distance between pairwise coordinates"
   ]
  },
  {
   "cell_type": "code",
   "execution_count": 1,
   "metadata": {},
   "outputs": [],
   "source": [
    "import pandas as pd\n",
    "import numpy as np\n",
    "import sklearn.neighbors\n",
    "import requests"
   ]
  },
  {
   "cell_type": "code",
   "execution_count": 2,
   "metadata": {},
   "outputs": [],
   "source": [
    "# Create two dataframes with city names and lat-long in degrees\n",
    "df_cities_a = pd.DataFrame({\n",
    "    'city_A' :     ['Atlanta', 'Aspen', 'Albuquerque', 'Ann Arbor'],\n",
    "    'latitude_A':  [ 33.75,     39.19,   35.08,         42.28],\n",
    "    'longitude_A': [ -84.39,    -106.82, -106.65,       -83.74]\n",
    "})\n",
    "df_cities_b = pd.DataFrame({\n",
    "    'city_B':      ['Boston', 'Baltimore', 'Berkley', 'Bellevue'],\n",
    "    'latitude_B' : [ 42.36,    39.29,       37.87,     47.61],\n",
    "    'longitude_B': [ -71.06,   -76.61,      -122.27,   -122.20]\n",
    "})"
   ]
  },
  {
   "cell_type": "markdown",
   "metadata": {},
   "source": [
    "#### add columns with radians for latitude and longitude\n"
   ]
  },
  {
   "cell_type": "code",
   "execution_count": 3,
   "metadata": {},
   "outputs": [],
   "source": [
    "df_cities_a[['lat_radians_A','long_radians_A']] = (\n",
    "    np.radians(df_cities_a.loc[:,['latitude_A','longitude_A']])\n",
    ")\n",
    "df_cities_b[['lat_radians_B','long_radians_B']] = (\n",
    "    np.radians(df_cities_b.loc[:,['latitude_B','longitude_B']])\n",
    ")"
   ]
  },
  {
   "cell_type": "code",
   "execution_count": 4,
   "metadata": {},
   "outputs": [
    {
     "name": "stderr",
     "output_type": "stream",
     "text": [
      "/home/imspecies/.local/lib/python3.8/site-packages/sklearn/neighbors/_distance_metric.py:10: FutureWarning: sklearn.neighbors.DistanceMetric has been moved to sklearn.metrics.DistanceMetric in 1.0. This import path will be removed in 1.3\n",
      "  warnings.warn(\n"
     ]
    }
   ],
   "source": [
    "dist = sklearn.neighbors.DistanceMetric.get_metric('haversine')\n",
    "dist_matrix = (dist.pairwise\n",
    "    (df_cities_a[['lat_radians_A','long_radians_A']],\n",
    "     df_cities_b[['lat_radians_B','long_radians_B']])*3959\n",
    ")\n",
    "# Note that 3959 is the radius of the earth in miles\n",
    "df_dist_matrix = (\n",
    "    pd.DataFrame(dist_matrix,index=df_cities_a['city_A'], \n",
    "                 columns=df_cities_b['city_B'])\n",
    ")"
   ]
  },
  {
   "cell_type": "code",
   "execution_count": 5,
   "metadata": {
    "scrolled": true
   },
   "outputs": [
    {
     "data": {
      "text/html": [
       "<div>\n",
       "<style scoped>\n",
       "    .dataframe tbody tr th:only-of-type {\n",
       "        vertical-align: middle;\n",
       "    }\n",
       "\n",
       "    .dataframe tbody tr th {\n",
       "        vertical-align: top;\n",
       "    }\n",
       "\n",
       "    .dataframe thead th {\n",
       "        text-align: right;\n",
       "    }\n",
       "</style>\n",
       "<table border=\"1\" class=\"dataframe\">\n",
       "  <thead>\n",
       "    <tr style=\"text-align: right;\">\n",
       "      <th>city_B</th>\n",
       "      <th>Boston</th>\n",
       "      <th>Baltimore</th>\n",
       "      <th>Berkley</th>\n",
       "      <th>Bellevue</th>\n",
       "    </tr>\n",
       "    <tr>\n",
       "      <th>city_A</th>\n",
       "      <th></th>\n",
       "      <th></th>\n",
       "      <th></th>\n",
       "      <th></th>\n",
       "    </tr>\n",
       "  </thead>\n",
       "  <tbody>\n",
       "    <tr>\n",
       "      <th>Atlanta</th>\n",
       "      <td>936.076298</td>\n",
       "      <td>576.797573</td>\n",
       "      <td>2126.980759</td>\n",
       "      <td>2172.370998</td>\n",
       "    </tr>\n",
       "    <tr>\n",
       "      <th>Aspen</th>\n",
       "      <td>1870.061460</td>\n",
       "      <td>1609.131867</td>\n",
       "      <td>839.063817</td>\n",
       "      <td>963.873663</td>\n",
       "    </tr>\n",
       "    <tr>\n",
       "      <th>Albuquerque</th>\n",
       "      <td>1967.911506</td>\n",
       "      <td>1671.139388</td>\n",
       "      <td>887.886902</td>\n",
       "      <td>1178.937434</td>\n",
       "    </tr>\n",
       "    <tr>\n",
       "      <th>Ann Arbor</th>\n",
       "      <td>647.250084</td>\n",
       "      <td>426.212109</td>\n",
       "      <td>2042.197926</td>\n",
       "      <td>1896.343851</td>\n",
       "    </tr>\n",
       "  </tbody>\n",
       "</table>\n",
       "</div>"
      ],
      "text/plain": [
       "city_B            Boston    Baltimore      Berkley     Bellevue\n",
       "city_A                                                         \n",
       "Atlanta       936.076298   576.797573  2126.980759  2172.370998\n",
       "Aspen        1870.061460  1609.131867   839.063817   963.873663\n",
       "Albuquerque  1967.911506  1671.139388   887.886902  1178.937434\n",
       "Ann Arbor     647.250084   426.212109  2042.197926  1896.343851"
      ]
     },
     "execution_count": 5,
     "metadata": {},
     "output_type": "execute_result"
    }
   ],
   "source": [
    "df_dist_matrix"
   ]
  },
  {
   "cell_type": "markdown",
   "metadata": {},
   "source": [
    "### Get the altitude from latitude and longtitude\n",
    "\n",
    "This function keeps sending request until it can get the altitude (Therefore, might be a little bit time consuming)"
   ]
  },
  {
   "cell_type": "code",
   "execution_count": 19,
   "metadata": {},
   "outputs": [],
   "source": [
    "def get_altitudes(lat:[float], lon:[float]) -> [float]:\n",
    "    \"\"\"Request altitudes from open-elevation.com\n",
    "\n",
    "    Args:\n",
    "        lat (List[float]): Latitudes\n",
    "        long (List[float]): Longitudes\n",
    "\n",
    "    Returns:\n",
    "        List[float]: Altitudes\n",
    "    \"\"\"\n",
    "    assert len(lat) == len(lon)\n",
    "    post_query = {\n",
    "        \"locations\": [dict(latitude=lat, longitude=lon) for lat, lon in zip(lat, lon)]\n",
    "    }\n",
    "    headers = {\"accept\": \"application/json\", \"content-type\": \"application/json\"}\n",
    "    while True:\n",
    "        try:\n",
    "            r = requests.post(\n",
    "                \"https://api.open-elevation.com/api/v1/lookup\",\n",
    "                headers=headers,\n",
    "                json=post_query,\n",
    "            )\n",
    "            r = r.json()\n",
    "            break\n",
    "        except Exception:\n",
    "            print(f\"Failed query. Status code: {r.status_code}. Retrying...\")\n",
    "    altitudes = [x[\"elevation\"] for x in r[\"results\"]]\n",
    "    return altitudes"
   ]
  },
  {
   "cell_type": "code",
   "execution_count": 22,
   "metadata": {},
   "outputs": [
    {
     "name": "stdout",
     "output_type": "stream",
     "text": [
      "Failed query. Status code: 504. Retrying...\n",
      "Failed query. Status code: 504. Retrying...\n",
      "Failed query. Status code: 504. Retrying...\n",
      "Failed query. Status code: 504. Retrying...\n",
      "Failed query. Status code: 504. Retrying...\n",
      "Failed query. Status code: 504. Retrying...\n",
      "Failed query. Status code: 504. Retrying...\n",
      "Failed query. Status code: 504. Retrying...\n",
      "Failed query. Status code: 504. Retrying...\n"
     ]
    }
   ],
   "source": [
    "df_cities_a[\"altitude_A\"] = get_altitudes(df_cities_a[\"latitude_A\"], df_cities_a[\"longitude_A\"])\n",
    "df_cities_b[\"altitude_B\"] = get_altitudes(df_cities_b[\"latitude_B\"], df_cities_b[\"longitude_B\"])"
   ]
  },
  {
   "cell_type": "code",
   "execution_count": 23,
   "metadata": {},
   "outputs": [
    {
     "data": {
      "text/html": [
       "<div>\n",
       "<style scoped>\n",
       "    .dataframe tbody tr th:only-of-type {\n",
       "        vertical-align: middle;\n",
       "    }\n",
       "\n",
       "    .dataframe tbody tr th {\n",
       "        vertical-align: top;\n",
       "    }\n",
       "\n",
       "    .dataframe thead th {\n",
       "        text-align: right;\n",
       "    }\n",
       "</style>\n",
       "<table border=\"1\" class=\"dataframe\">\n",
       "  <thead>\n",
       "    <tr style=\"text-align: right;\">\n",
       "      <th></th>\n",
       "      <th>city_A</th>\n",
       "      <th>latitude_A</th>\n",
       "      <th>longitude_A</th>\n",
       "      <th>lat_radians_A</th>\n",
       "      <th>long_radians_A</th>\n",
       "      <th>altitude_A</th>\n",
       "    </tr>\n",
       "  </thead>\n",
       "  <tbody>\n",
       "    <tr>\n",
       "      <th>0</th>\n",
       "      <td>Atlanta</td>\n",
       "      <td>33.75</td>\n",
       "      <td>-84.39</td>\n",
       "      <td>0.589049</td>\n",
       "      <td>-1.472883</td>\n",
       "      <td>327</td>\n",
       "    </tr>\n",
       "    <tr>\n",
       "      <th>1</th>\n",
       "      <td>Aspen</td>\n",
       "      <td>39.19</td>\n",
       "      <td>-106.82</td>\n",
       "      <td>0.683995</td>\n",
       "      <td>-1.864361</td>\n",
       "      <td>2417</td>\n",
       "    </tr>\n",
       "    <tr>\n",
       "      <th>2</th>\n",
       "      <td>Albuquerque</td>\n",
       "      <td>35.08</td>\n",
       "      <td>-106.65</td>\n",
       "      <td>0.612262</td>\n",
       "      <td>-1.861394</td>\n",
       "      <td>1509</td>\n",
       "    </tr>\n",
       "    <tr>\n",
       "      <th>3</th>\n",
       "      <td>Ann Arbor</td>\n",
       "      <td>42.28</td>\n",
       "      <td>-83.74</td>\n",
       "      <td>0.737925</td>\n",
       "      <td>-1.461539</td>\n",
       "      <td>269</td>\n",
       "    </tr>\n",
       "  </tbody>\n",
       "</table>\n",
       "</div>"
      ],
      "text/plain": [
       "        city_A  latitude_A  longitude_A  lat_radians_A  long_radians_A  \\\n",
       "0      Atlanta       33.75       -84.39       0.589049       -1.472883   \n",
       "1        Aspen       39.19      -106.82       0.683995       -1.864361   \n",
       "2  Albuquerque       35.08      -106.65       0.612262       -1.861394   \n",
       "3    Ann Arbor       42.28       -83.74       0.737925       -1.461539   \n",
       "\n",
       "   altitude_A  \n",
       "0         327  \n",
       "1        2417  \n",
       "2        1509  \n",
       "3         269  "
      ]
     },
     "execution_count": 23,
     "metadata": {},
     "output_type": "execute_result"
    }
   ],
   "source": [
    "df_cities_a"
   ]
  },
  {
   "cell_type": "code",
   "execution_count": 24,
   "metadata": {},
   "outputs": [
    {
     "data": {
      "text/html": [
       "<div>\n",
       "<style scoped>\n",
       "    .dataframe tbody tr th:only-of-type {\n",
       "        vertical-align: middle;\n",
       "    }\n",
       "\n",
       "    .dataframe tbody tr th {\n",
       "        vertical-align: top;\n",
       "    }\n",
       "\n",
       "    .dataframe thead th {\n",
       "        text-align: right;\n",
       "    }\n",
       "</style>\n",
       "<table border=\"1\" class=\"dataframe\">\n",
       "  <thead>\n",
       "    <tr style=\"text-align: right;\">\n",
       "      <th></th>\n",
       "      <th>city_B</th>\n",
       "      <th>latitude_B</th>\n",
       "      <th>longitude_B</th>\n",
       "      <th>lat_radians_B</th>\n",
       "      <th>long_radians_B</th>\n",
       "      <th>altitude_B</th>\n",
       "    </tr>\n",
       "  </thead>\n",
       "  <tbody>\n",
       "    <tr>\n",
       "      <th>0</th>\n",
       "      <td>Boston</td>\n",
       "      <td>42.36</td>\n",
       "      <td>-71.06</td>\n",
       "      <td>0.739321</td>\n",
       "      <td>-1.240231</td>\n",
       "      <td>27</td>\n",
       "    </tr>\n",
       "    <tr>\n",
       "      <th>1</th>\n",
       "      <td>Baltimore</td>\n",
       "      <td>39.29</td>\n",
       "      <td>-76.61</td>\n",
       "      <td>0.685740</td>\n",
       "      <td>-1.337097</td>\n",
       "      <td>12</td>\n",
       "    </tr>\n",
       "    <tr>\n",
       "      <th>2</th>\n",
       "      <td>Berkley</td>\n",
       "      <td>37.87</td>\n",
       "      <td>-122.27</td>\n",
       "      <td>0.660956</td>\n",
       "      <td>-2.134014</td>\n",
       "      <td>63</td>\n",
       "    </tr>\n",
       "    <tr>\n",
       "      <th>3</th>\n",
       "      <td>Bellevue</td>\n",
       "      <td>47.61</td>\n",
       "      <td>-122.20</td>\n",
       "      <td>0.830951</td>\n",
       "      <td>-2.132792</td>\n",
       "      <td>27</td>\n",
       "    </tr>\n",
       "  </tbody>\n",
       "</table>\n",
       "</div>"
      ],
      "text/plain": [
       "      city_B  latitude_B  longitude_B  lat_radians_B  long_radians_B  \\\n",
       "0     Boston       42.36       -71.06       0.739321       -1.240231   \n",
       "1  Baltimore       39.29       -76.61       0.685740       -1.337097   \n",
       "2    Berkley       37.87      -122.27       0.660956       -2.134014   \n",
       "3   Bellevue       47.61      -122.20       0.830951       -2.132792   \n",
       "\n",
       "   altitude_B  \n",
       "0          27  \n",
       "1          12  \n",
       "2          63  \n",
       "3          27  "
      ]
     },
     "execution_count": 24,
     "metadata": {},
     "output_type": "execute_result"
    }
   ],
   "source": [
    "df_cities_b"
   ]
  }
 ],
 "metadata": {
  "kernelspec": {
   "display_name": "Python 3 (ipykernel)",
   "language": "python",
   "name": "python3"
  },
  "language_info": {
   "codemirror_mode": {
    "name": "ipython",
    "version": 3
   },
   "file_extension": ".py",
   "mimetype": "text/x-python",
   "name": "python",
   "nbconvert_exporter": "python",
   "pygments_lexer": "ipython3",
   "version": "3.8.10"
  }
 },
 "nbformat": 4,
 "nbformat_minor": 2
}
