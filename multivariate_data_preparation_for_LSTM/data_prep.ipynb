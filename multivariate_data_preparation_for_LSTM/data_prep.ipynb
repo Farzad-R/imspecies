{
 "cells": [
  {
   "cell_type": "code",
   "execution_count": 1,
   "id": "a6857e60-9b9b-42ec-8f3e-0f1482c55ab3",
   "metadata": {},
   "outputs": [],
   "source": [
    "import pandas as pd\n",
    "import numpy as np"
   ]
  },
  {
   "cell_type": "markdown",
   "id": "2da830cf",
   "metadata": {},
   "source": [
    "## Main Function"
   ]
  },
  {
   "cell_type": "code",
   "execution_count": 2,
   "id": "f45536f6",
   "metadata": {},
   "outputs": [],
   "source": [
    "def df_2D_to_3D(df, n_lag: int, n_predict: int):\n",
    "    \"\"\" \n",
    "    Turn a dataframe into a 3d data suitable for LSTM.\n",
    "\n",
    "    Args:\n",
    "    df: Our dataset (no date or other unncessary columns)\n",
    "    n_lag: Number of past days we want to use to predict the future.\n",
    "    n_predict: Number of days we want to look into the future based on the past days.\n",
    "\n",
    "    Returns:\n",
    "    trainX: a 3rd array containing our training dataset\n",
    "    trainY: a 2d array containing our price values (labels)\n",
    "    \"\"\"\n",
    "    trainX = []\n",
    "    trainY = []\n",
    "    arr_data = np.array(df)\n",
    "    for i in range(n_lag, len(arr_data) - n_predict +1):\n",
    "        trainX.append(arr_data[i - n_lag : i, 0 : arr_data.shape[1]])\n",
    "        trainY.append(arr_data[i : i + n_predict])\n",
    "    trainX, trainY = np.array(trainX), np.array(trainY)\n",
    "    return trainX, trainY"
   ]
  },
  {
   "cell_type": "code",
   "execution_count": 3,
   "id": "ab6e4fab-5a9e-47d7-b3b4-4ae808d5fa44",
   "metadata": {},
   "outputs": [
    {
     "name": "stdout",
     "output_type": "stream",
     "text": [
      "shape of the dataset: (1152, 7)\n",
      "list of columns: ['Date', 'Open', 'High', 'Low', 'Close', 'Adj Close', 'Volume']\n"
     ]
    },
    {
     "data": {
      "text/html": [
       "<div>\n",
       "<style scoped>\n",
       "    .dataframe tbody tr th:only-of-type {\n",
       "        vertical-align: middle;\n",
       "    }\n",
       "\n",
       "    .dataframe tbody tr th {\n",
       "        vertical-align: top;\n",
       "    }\n",
       "\n",
       "    .dataframe thead th {\n",
       "        text-align: right;\n",
       "    }\n",
       "</style>\n",
       "<table border=\"1\" class=\"dataframe\">\n",
       "  <thead>\n",
       "    <tr style=\"text-align: right;\">\n",
       "      <th></th>\n",
       "      <th>Date</th>\n",
       "      <th>Open</th>\n",
       "      <th>High</th>\n",
       "      <th>Low</th>\n",
       "      <th>Close</th>\n",
       "      <th>Adj Close</th>\n",
       "      <th>Volume</th>\n",
       "    </tr>\n",
       "  </thead>\n",
       "  <tbody>\n",
       "    <tr>\n",
       "      <th>0</th>\n",
       "      <td>2017-01-03</td>\n",
       "      <td>30.451923</td>\n",
       "      <td>30.615385</td>\n",
       "      <td>30.192308</td>\n",
       "      <td>30.471153</td>\n",
       "      <td>28.363588</td>\n",
       "      <td>33435480</td>\n",
       "    </tr>\n",
       "    <tr>\n",
       "      <th>1</th>\n",
       "      <td>2017-01-04</td>\n",
       "      <td>30.528847</td>\n",
       "      <td>30.605768</td>\n",
       "      <td>30.403847</td>\n",
       "      <td>30.480768</td>\n",
       "      <td>28.372541</td>\n",
       "      <td>22300616</td>\n",
       "    </tr>\n",
       "    <tr>\n",
       "      <th>2</th>\n",
       "      <td>2017-01-05</td>\n",
       "      <td>30.355768</td>\n",
       "      <td>30.528847</td>\n",
       "      <td>30.105768</td>\n",
       "      <td>30.307692</td>\n",
       "      <td>28.211433</td>\n",
       "      <td>26891072</td>\n",
       "    </tr>\n",
       "    <tr>\n",
       "      <th>3</th>\n",
       "      <td>2017-01-06</td>\n",
       "      <td>30.365385</td>\n",
       "      <td>30.548077</td>\n",
       "      <td>30.153847</td>\n",
       "      <td>30.394232</td>\n",
       "      <td>28.291990</td>\n",
       "      <td>23005632</td>\n",
       "    </tr>\n",
       "    <tr>\n",
       "      <th>4</th>\n",
       "      <td>2017-01-09</td>\n",
       "      <td>30.423077</td>\n",
       "      <td>30.442308</td>\n",
       "      <td>30.221153</td>\n",
       "      <td>30.250000</td>\n",
       "      <td>28.157734</td>\n",
       "      <td>22113000</td>\n",
       "    </tr>\n",
       "    <tr>\n",
       "      <th>...</th>\n",
       "      <td>...</td>\n",
       "      <td>...</td>\n",
       "      <td>...</td>\n",
       "      <td>...</td>\n",
       "      <td>...</td>\n",
       "      <td>...</td>\n",
       "      <td>...</td>\n",
       "    </tr>\n",
       "    <tr>\n",
       "      <th>1147</th>\n",
       "      <td>2021-07-26</td>\n",
       "      <td>12.660000</td>\n",
       "      <td>12.940000</td>\n",
       "      <td>12.630000</td>\n",
       "      <td>12.920000</td>\n",
       "      <td>12.920000</td>\n",
       "      <td>53828900</td>\n",
       "    </tr>\n",
       "    <tr>\n",
       "      <th>1148</th>\n",
       "      <td>2021-07-27</td>\n",
       "      <td>13.330000</td>\n",
       "      <td>13.470000</td>\n",
       "      <td>12.800000</td>\n",
       "      <td>13.080000</td>\n",
       "      <td>13.080000</td>\n",
       "      <td>119444300</td>\n",
       "    </tr>\n",
       "    <tr>\n",
       "      <th>1149</th>\n",
       "      <td>2021-07-28</td>\n",
       "      <td>13.150000</td>\n",
       "      <td>13.480000</td>\n",
       "      <td>13.040000</td>\n",
       "      <td>13.130000</td>\n",
       "      <td>13.130000</td>\n",
       "      <td>68568300</td>\n",
       "    </tr>\n",
       "    <tr>\n",
       "      <th>1150</th>\n",
       "      <td>2021-07-29</td>\n",
       "      <td>13.190000</td>\n",
       "      <td>13.380000</td>\n",
       "      <td>13.090000</td>\n",
       "      <td>13.290000</td>\n",
       "      <td>13.290000</td>\n",
       "      <td>54276500</td>\n",
       "    </tr>\n",
       "    <tr>\n",
       "      <th>1151</th>\n",
       "      <td>2021-07-30</td>\n",
       "      <td>13.160000</td>\n",
       "      <td>13.220000</td>\n",
       "      <td>12.920000</td>\n",
       "      <td>12.950000</td>\n",
       "      <td>12.950000</td>\n",
       "      <td>59992300</td>\n",
       "    </tr>\n",
       "  </tbody>\n",
       "</table>\n",
       "<p>1152 rows × 7 columns</p>\n",
       "</div>"
      ],
      "text/plain": [
       "            Date       Open       High        Low      Close  Adj Close  \\\n",
       "0     2017-01-03  30.451923  30.615385  30.192308  30.471153  28.363588   \n",
       "1     2017-01-04  30.528847  30.605768  30.403847  30.480768  28.372541   \n",
       "2     2017-01-05  30.355768  30.528847  30.105768  30.307692  28.211433   \n",
       "3     2017-01-06  30.365385  30.548077  30.153847  30.394232  28.291990   \n",
       "4     2017-01-09  30.423077  30.442308  30.221153  30.250000  28.157734   \n",
       "...          ...        ...        ...        ...        ...        ...   \n",
       "1147  2021-07-26  12.660000  12.940000  12.630000  12.920000  12.920000   \n",
       "1148  2021-07-27  13.330000  13.470000  12.800000  13.080000  13.080000   \n",
       "1149  2021-07-28  13.150000  13.480000  13.040000  13.130000  13.130000   \n",
       "1150  2021-07-29  13.190000  13.380000  13.090000  13.290000  13.290000   \n",
       "1151  2021-07-30  13.160000  13.220000  12.920000  12.950000  12.950000   \n",
       "\n",
       "         Volume  \n",
       "0      33435480  \n",
       "1      22300616  \n",
       "2      26891072  \n",
       "3      23005632  \n",
       "4      22113000  \n",
       "...         ...  \n",
       "1147   53828900  \n",
       "1148  119444300  \n",
       "1149   68568300  \n",
       "1150   54276500  \n",
       "1151   59992300  \n",
       "\n",
       "[1152 rows x 7 columns]"
      ]
     },
     "execution_count": 3,
     "metadata": {},
     "output_type": "execute_result"
    }
   ],
   "source": [
    "df_data = pd.read_csv('GE-2.csv')\n",
    "print(f\"shape of the dataset: {df_data.shape}\")\n",
    "print(f\"list of columns: {list(df_data.columns)}\")\n",
    "df_data"
   ]
  },
  {
   "cell_type": "code",
   "execution_count": 4,
   "id": "9bc112c3-1097-4adb-b73b-341cb78c12df",
   "metadata": {},
   "outputs": [],
   "source": [
    "# dropping the Data column\n",
    "df_data_new = df_data[['Open', 'High', 'Low', 'Close', 'Adj Close', 'Volume']]\n",
    "# Adding a syntetic price\n",
    "df_data_new['price'] = 100"
   ]
  },
  {
   "cell_type": "code",
   "execution_count": 5,
   "id": "16efc900",
   "metadata": {},
   "outputs": [
    {
     "name": "stdout",
     "output_type": "stream",
     "text": [
      "trainX shape: (1138, 14, 7), trainY shape: (1138, 1, 7)\n"
     ]
    }
   ],
   "source": [
    "n_predict = 1   \n",
    "n_lag = 14  \n",
    "trainX, trainY = df_2D_to_3D(df=df_data_new , n_lag=n_lag, n_predict=n_predict)\n",
    "print(f\"trainX shape: {trainX.shape}, trainY shape: {trainY.shape}\")"
   ]
  },
  {
   "cell_type": "markdown",
   "id": "fa2e621f",
   "metadata": {},
   "source": [
    "### Checking the result"
   ]
  },
  {
   "cell_type": "code",
   "execution_count": 6,
   "id": "53b42f63-9ab7-4e08-a1e7-99080878869f",
   "metadata": {},
   "outputs": [
    {
     "data": {
      "text/plain": [
       "1139"
      ]
     },
     "execution_count": 6,
     "metadata": {},
     "output_type": "execute_result"
    }
   ],
   "source": [
    "len(np.array(df_data_new)) - n_lag + 1"
   ]
  }
 ],
 "metadata": {
  "kernelspec": {
   "display_name": "Python 3",
   "language": "python",
   "name": "python3"
  },
  "language_info": {
   "codemirror_mode": {
    "name": "ipython",
    "version": 3
   },
   "file_extension": ".py",
   "mimetype": "text/x-python",
   "name": "python",
   "nbconvert_exporter": "python",
   "pygments_lexer": "ipython3",
   "version": "3.9.10"
  }
 },
 "nbformat": 4,
 "nbformat_minor": 5
}
